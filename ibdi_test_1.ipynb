{
 "cells": [
  {
   "cell_type": "code",
   "execution_count": null,
   "metadata": {
    "collapsed": true
   },
   "outputs": [],
   "source": [
    "\"\"\"Task 1:\n",
    "\n",
    "We're writing a toy program for profiling algorithms.\n",
    "Implement a base class Problem whose interface should consist of:\n",
    "* inputs() -> tuple\n",
    "      returns a tuple of input data\n",
    "* outputs() -> tuple\n",
    "      returns a tuple of expected results\n",
    "* add_solver(obj)\n",
    "      adds a solver to this problem. Anything that has a *method* called\n",
    "      'compute' should be accepted as a solver, raise otherwise\n",
    "* profile_solvers()\n",
    "      run all the available test data on all the available solvers 10 times\n",
    "      and compute the average time it takes to solve the problem. Print the\n",
    "      results to stdout. If some solvers produced wrong results, don't raise,\n",
    "      rather print a msg about failure\n",
    "\n",
    "The first two methods provide test input data and corresponding outputs; they\n",
    "must be overridden by the implementing class (i.e. creating an instance\n",
    "directly of Problem should fail).\n",
    "\n",
    "The latter two methods serve for adding a class for solving the problem and\n",
    "profiling all the available solutions respectively. \n",
    "\n",
    "The use of the Problem class should look like this:\n",
    "\n",
    ">>> prob = Problem()\n",
    "Exception!\n",
    "\n",
    "class SumUpToN(Problem):\n",
    "   def inputs(self):\n",
    "       return 100, 1000000\n",
    "   def outputs(self):\n",
    "       return 5050, 500000500000\n",
    "\n",
    ">>> prob = SumUpToN()\n",
    "\n",
    "class Naive:\n",
    "    def compute(self, N):\n",
    "        return reduce(lambda x, y: x + y, range(1, N + 1))\n",
    "\n",
    "class ConstTime:\n",
    "    def compute(self, N):\n",
    "        return (N + 1) * N / 2\n",
    "\n",
    "class Wrong:\n",
    "    def compute(self, N):\n",
    "        return 100\n",
    "\n",
    ">>> prob.add_solver(Naive())\n",
    ">>> prob.add_solver(ConstTime())\n",
    ">>> prob.add_solver(Wrong())\n",
    ">>> prob.profile_solvers()\n",
    "\n",
    "Solving \"SumUpToN\" with \"Naive\", input=\"100\":\n",
    "    10 loops took <some number> seconds on average\n",
    "...\n",
    "Solving \"SumUpToN\" with \"Wrong\", input=\"100\":\n",
    "    FAIL\n",
    "...\n",
    "\"\"\"\n"
   ]
  },
  {
   "cell_type": "code",
   "execution_count": null,
   "metadata": {
    "collapsed": false
   },
   "outputs": [],
   "source": [
    "import time\n",
    "from functools import reduce\n",
    "\n",
    "class Problem:\n",
    "    def __init__(self):\n",
    "        # raise if creating directly\n",
    "        if type(self) is Problem:\n",
    "            raise NotImplementedError('Require derived classes to override methods.')\n",
    "        # raise if methods not overriden in subclass\n",
    "        elif 'inputs' not in dir(self) or 'outputs' not in dir(self):\n",
    "            raise NotImplementedError(\"Methods 'inputs()' and 'outputs()' have to be overriden\")\n",
    "        else:\n",
    "            self.solvers_list = []\n",
    "    \n",
    "    def add_solver(self, obj):\n",
    "        # does it really matter whether it's a method or an attribute?\n",
    "        if \"compute\" in dir(obj):\n",
    "            self.solvers_list.append(obj)\n",
    "        else: \n",
    "            raise BaseException(\"'Compute' method not found\")\n",
    "    \n",
    "    def profile_solvers(self):\n",
    "        for solver in self.solvers_list:\n",
    "            for arg in range(0,len(self.inputs())):\n",
    "                print(\"Solving '{}' with '{}', input = '{}':\".format(\n",
    "                                self.__class__.__name__,\n",
    "                              solver.__class__.__name__,\n",
    "                              self.inputs()[arg])\n",
    "                     )\n",
    "                result = True\n",
    "                total_time = 0\n",
    "                for i in range(1,11):\n",
    "                    start = time.time()\n",
    "                    r = solver.compute(self.inputs()[arg])\n",
    "                    end = time.time()\n",
    "                    if r != self.outputs()[arg]:\n",
    "                        result = False\n",
    "                    total_time += end - start\n",
    "                average_time = total_time/10\n",
    "                if result:\n",
    "                    print(\"\\t10 loops took {} seconds on average\"\n",
    "                      .format(average_time))   \n",
    "                else:\n",
    "                    print(\"\\tFailed\")\n"
   ]
  },
  {
   "cell_type": "code",
   "execution_count": null,
   "metadata": {
    "collapsed": true
   },
   "outputs": [],
   "source": [
    "class SumUpToN(Problem):\n",
    "    def inputs(self):\n",
    "        return 100, 1000000\n",
    "    \n",
    "    def outputs(self):\n",
    "        return 5050, 500000500000\n",
    "    "
   ]
  },
  {
   "cell_type": "code",
   "execution_count": null,
   "metadata": {
    "collapsed": false
   },
   "outputs": [],
   "source": [
    "prob = SumUpToN()"
   ]
  },
  {
   "cell_type": "code",
   "execution_count": null,
   "metadata": {
    "collapsed": false
   },
   "outputs": [],
   "source": [
    "class Naive:\n",
    "    def compute(self, N):\n",
    "        return reduce(lambda x, y: x + y, range(1, N + 1))\n",
    "\n",
    "class ConstTime:\n",
    "    def compute(self, N):\n",
    "        return (N + 1) * N / 2\n",
    "\n",
    "class Wrong:\n",
    "    def compute(self, N):\n",
    "        return 100\n",
    "    "
   ]
  },
  {
   "cell_type": "code",
   "execution_count": null,
   "metadata": {
    "collapsed": false
   },
   "outputs": [],
   "source": [
    "prob.add_solver(Naive())\n",
    "prob.add_solver(ConstTime())\n",
    "prob.add_solver(Wrong())"
   ]
  },
  {
   "cell_type": "code",
   "execution_count": null,
   "metadata": {
    "collapsed": false
   },
   "outputs": [],
   "source": [
    "prob.profile_solvers()"
   ]
  },
  {
   "cell_type": "code",
   "execution_count": null,
   "metadata": {
    "collapsed": true
   },
   "outputs": [],
   "source": []
  }
 ],
 "metadata": {
  "kernelspec": {
   "display_name": "Python 3",
   "language": "python",
   "name": "python3"
  },
  "language_info": {
   "codemirror_mode": {
    "name": "ipython",
    "version": 3
   },
   "file_extension": ".py",
   "mimetype": "text/x-python",
   "name": "python",
   "nbconvert_exporter": "python",
   "pygments_lexer": "ipython3",
   "version": "3.5.2"
  }
 },
 "nbformat": 4,
 "nbformat_minor": 0
}
