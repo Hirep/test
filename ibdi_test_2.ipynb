{
 "cells": [
  {
   "cell_type": "code",
   "execution_count": null,
   "metadata": {
    "collapsed": true
   },
   "outputs": [],
   "source": [
    "\"\"\"Task 2:\n",
    "\n",
    "I have a (rather stupid) class factory that spits out person classes that can\n",
    "have different pets:\n",
    "\n",
    "def person_with_pet(pet):\n",
    "    return type('PersonWith%s' % pet.capitalize(), (), {'pet': pet})\n",
    " \n",
    "It works as follows:\n",
    " \n",
    ">>> cat_cls = person_with_pet('cat')\n",
    ">>> bob = cat_cls()\n",
    ">>> bob.pet\n",
    "'cat'\n",
    "\n",
    "But I can't serialize it!\n",
    ">>> import pickle\n",
    ">>> pickle.dumps(bob)\n",
    "ERROR!\n",
    "\n",
    "Modify the factory function such that the code above works\n",
    "\"\"\""
   ]
  },
  {
   "cell_type": "code",
   "execution_count": 127,
   "metadata": {
    "collapsed": false
   },
   "outputs": [],
   "source": [
    "import pickle\n",
    "def person_with_pet(pet, instantiate=False):\n",
    "    cls = type('PersonWith{}'.format(pet.capitalize()), (),\n",
    "               {'pet':pet, '__reduce__': lambda self: (person_with_pet, (pet, True), self.__dict__)})\n",
    "    return cls() if instantiate else cls"
   ]
  },
  {
   "cell_type": "code",
   "execution_count": null,
   "metadata": {
    "collapsed": true
   },
   "outputs": [],
   "source": [
    "cat_cls = person_with_pet('cat')\n",
    "bob = cat_cls()\n",
    "bin = pickle.dumps(bob)"
   ]
  }
 ],
 "metadata": {
  "kernelspec": {
   "display_name": "Python 3",
   "language": "python",
   "name": "python3"
  },
  "language_info": {
   "codemirror_mode": {
    "name": "ipython",
    "version": 3
   },
   "file_extension": ".py",
   "mimetype": "text/x-python",
   "name": "python",
   "nbconvert_exporter": "python",
   "pygments_lexer": "ipython3",
   "version": "3.5.1"
  }
 },
 "nbformat": 4,
 "nbformat_minor": 0
}
