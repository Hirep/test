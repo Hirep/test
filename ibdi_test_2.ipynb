{
 "cells": [
  {
   "cell_type": "code",
   "execution_count": null,
   "metadata": {
    "collapsed": true
   },
   "outputs": [],
   "source": [
    "\"\"\"Task 2:\n",
    "\n",
    "I have a (rather stupid) class factory that spits out person classes that can\n",
    "have different pets:\n",
    "\n",
    "def person_with_pet(pet):\n",
    "    return type('PersonWith%s' % pet.capitalize(), (), {'pet': pet})\n",
    " \n",
    "It works as follows:\n",
    " \n",
    ">>> cat_cls = person_with_pet('cat')\n",
    ">>> bob = cat_cls()\n",
    ">>> bob.pet\n",
    "'cat'\n",
    "\n",
    "But I can't serialize it!\n",
    ">>> import pickle\n",
    ">>> pickle.dumps(bob)\n",
    "ERROR!\n",
    "\n",
    "Modify the factory function such that the code above works\n",
    "\"\"\""
   ]
  },
  {
   "cell_type": "code",
   "execution_count": 127,
   "metadata": {
    "collapsed": false
   },
   "outputs": [],
   "source": [
    "def person_with_pet(pet):\n",
    "    return type('PersonWith{}'.format(pet.capitalize()), (), {'pet': pet})"
   ]
  },
  {
   "cell_type": "code",
   "execution_count": 128,
   "metadata": {
    "collapsed": false
   },
   "outputs": [],
   "source": [
    "cat_cls = person_with_pet('cat')\n",
    "bob = cat_cls()"
   ]
  },
  {
   "cell_type": "code",
   "execution_count": 129,
   "metadata": {
    "collapsed": false
   },
   "outputs": [
    {
     "ename": "PicklingError",
     "evalue": "Can't pickle <class '__main__.PersonWithCat'>: attribute lookup PersonWithCat on __main__ failed",
     "output_type": "error",
     "traceback": [
      "\u001b[0;31m---------------------------------------------------------------------------\u001b[0m",
      "\u001b[0;31mPicklingError\u001b[0m                             Traceback (most recent call last)",
      "\u001b[0;32m<ipython-input-129-cc95a46bc1ad>\u001b[0m in \u001b[0;36m<module>\u001b[0;34m()\u001b[0m\n\u001b[1;32m      1\u001b[0m \u001b[0;32mimport\u001b[0m \u001b[0mpickle\u001b[0m\u001b[0;34m\u001b[0m\u001b[0m\n\u001b[0;32m----> 2\u001b[0;31m \u001b[0mx\u001b[0m \u001b[0;34m=\u001b[0m \u001b[0mpickle\u001b[0m\u001b[0;34m.\u001b[0m\u001b[0mdumps\u001b[0m\u001b[0;34m(\u001b[0m\u001b[0mbob\u001b[0m\u001b[0;34m)\u001b[0m\u001b[0;34m\u001b[0m\u001b[0m\n\u001b[0m",
      "\u001b[0;31mPicklingError\u001b[0m: Can't pickle <class '__main__.PersonWithCat'>: attribute lookup PersonWithCat on __main__ failed"
     ]
    }
   ],
   "source": [
    "import pickle\n",
    "x = pickle.dumps(bob)"
   ]
  }
 ],
 "metadata": {
  "kernelspec": {
   "display_name": "Python 3",
   "language": "python",
   "name": "python3"
  },
  "language_info": {
   "codemirror_mode": {
    "name": "ipython",
    "version": 3
   },
   "file_extension": ".py",
   "mimetype": "text/x-python",
   "name": "python",
   "nbconvert_exporter": "python",
   "pygments_lexer": "ipython3",
   "version": "3.5.2"
  }
 },
 "nbformat": 4,
 "nbformat_minor": 0
}
